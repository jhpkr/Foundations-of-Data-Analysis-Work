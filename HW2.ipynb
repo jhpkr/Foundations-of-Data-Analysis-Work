{
 "cells": [
  {
   "cell_type": "markdown",
   "id": "5a8c3a61",
   "metadata": {},
   "source": [
    "## QUESTION 1"
   ]
  },
  {
   "cell_type": "code",
   "execution_count": 4,
   "id": "e096c536",
   "metadata": {},
   "outputs": [],
   "source": [
    "import pandas as pd\n",
    "import numpy as np\n",
    "import seaborn as sns\n",
    "import matplotlib.pyplot as plt"
   ]
  },
  {
   "cell_type": "markdown",
   "id": "3a1e783f",
   "metadata": {},
   "source": [
    "## 1a"
   ]
  },
  {
   "cell_type": "markdown",
   "id": "53293971",
   "metadata": {},
   "source": [
    "Original Equation:\n",
    "$$\\prod_{i = 1}^{n} 2 \\alpha x e^{- \\alpha x^{2}}$$\n",
    "Taking the natural log:\n",
    "$$\\ln(\\prod_{i = 1}^{n} 2 \\alpha x e^{- \\alpha x^{2}})$$\n",
    "Equals:\n",
    "$$\\sum_{i = 1}^{n} \\ln(2) + \\ln(\\alpha) + \\ln(x_i) - \\alpha x_i^{2} $$\n",
    "Taking the derivative with respect to alpha:\n",
    "$$d/d\\alpha(\\sum_{i = 1}^{n} \\ln(2 \\alpha x_i) - \\alpha x_i^{2}) = 0$$\n",
    "$$\\sum_{i = 1}^{n}[(1/\\alpha) - x_i^{2}] = 0$$\n",
    "Incorporating sum:\n",
    "$$n/\\alpha - \\sum_{i = 1}^{n} x_i^{2} = 0$$\n",
    "Simplifying and finding alpha:\n",
    "$$n/\\alpha = \\sum_{i = 1}^{n} x_i^{2}$$\n",
    "$$n = \\sum_{i = 1}^{n} x_i^{2} * \\alpha$$\n",
    "$$\\alpha = n/ \\sum_{i = 1}^{n} x_i^{2}$$"
   ]
  },
  {
   "cell_type": "markdown",
   "id": "6ae5c40c",
   "metadata": {},
   "source": [
    "## 1b"
   ]
  },
  {
   "cell_type": "code",
   "execution_count": 5,
   "id": "2420d44e",
   "metadata": {},
   "outputs": [
    {
     "data": {
      "text/html": [
       "<div>\n",
       "<style scoped>\n",
       "    .dataframe tbody tr th:only-of-type {\n",
       "        vertical-align: middle;\n",
       "    }\n",
       "\n",
       "    .dataframe tbody tr th {\n",
       "        vertical-align: top;\n",
       "    }\n",
       "\n",
       "    .dataframe thead th {\n",
       "        text-align: right;\n",
       "    }\n",
       "</style>\n",
       "<table border=\"1\" class=\"dataframe\">\n",
       "  <thead>\n",
       "    <tr style=\"text-align: right;\">\n",
       "      <th></th>\n",
       "      <th>0</th>\n",
       "    </tr>\n",
       "  </thead>\n",
       "  <tbody>\n",
       "    <tr>\n",
       "      <th>0</th>\n",
       "      <td>0.565706</td>\n",
       "    </tr>\n",
       "    <tr>\n",
       "      <th>1</th>\n",
       "      <td>1.030801</td>\n",
       "    </tr>\n",
       "    <tr>\n",
       "      <th>2</th>\n",
       "      <td>0.719174</td>\n",
       "    </tr>\n",
       "    <tr>\n",
       "      <th>3</th>\n",
       "      <td>0.970237</td>\n",
       "    </tr>\n",
       "    <tr>\n",
       "      <th>4</th>\n",
       "      <td>0.940219</td>\n",
       "    </tr>\n",
       "    <tr>\n",
       "      <th>...</th>\n",
       "      <td>...</td>\n",
       "    </tr>\n",
       "    <tr>\n",
       "      <th>9995</th>\n",
       "      <td>0.520613</td>\n",
       "    </tr>\n",
       "    <tr>\n",
       "      <th>9996</th>\n",
       "      <td>0.761953</td>\n",
       "    </tr>\n",
       "    <tr>\n",
       "      <th>9997</th>\n",
       "      <td>1.112560</td>\n",
       "    </tr>\n",
       "    <tr>\n",
       "      <th>9998</th>\n",
       "      <td>0.065503</td>\n",
       "    </tr>\n",
       "    <tr>\n",
       "      <th>9999</th>\n",
       "      <td>0.627667</td>\n",
       "    </tr>\n",
       "  </tbody>\n",
       "</table>\n",
       "<p>10000 rows × 1 columns</p>\n",
       "</div>"
      ],
      "text/plain": [
       "             0\n",
       "0     0.565706\n",
       "1     1.030801\n",
       "2     0.719174\n",
       "3     0.970237\n",
       "4     0.940219\n",
       "...        ...\n",
       "9995  0.520613\n",
       "9996  0.761953\n",
       "9997  1.112560\n",
       "9998  0.065503\n",
       "9999  0.627667\n",
       "\n",
       "[10000 rows x 1 columns]"
      ]
     },
     "execution_count": 5,
     "metadata": {},
     "output_type": "execute_result"
    }
   ],
   "source": [
    "traffic = pd.read_csv('traffic.csv', header = None)\n",
    "traffic"
   ]
  },
  {
   "cell_type": "code",
   "execution_count": 6,
   "id": "6303f31a",
   "metadata": {},
   "outputs": [
    {
     "data": {
      "text/plain": [
       "0    1.165723\n",
       "dtype: float64"
      ]
     },
     "execution_count": 6,
     "metadata": {},
     "output_type": "execute_result"
    }
   ],
   "source": [
    "traffic_squared = traffic ** 2\n",
    "summation = traffic_squared.sum()\n",
    "alpha = 10000/summation\n",
    "alpha"
   ]
  },
  {
   "cell_type": "markdown",
   "id": "fb2fb295",
   "metadata": {},
   "source": [
    "## 1c"
   ]
  },
  {
   "cell_type": "code",
   "execution_count": 7,
   "id": "78aa637a",
   "metadata": {},
   "outputs": [
    {
     "data": {
      "text/plain": [
       "(array([3.90766287e-01, 8.18807579e-01, 8.74098834e-01, 5.96089432e-01,\n",
       "        2.78320027e-01, 1.06544385e-01, 3.07518780e-02, 9.00812586e-03,\n",
       "        1.24250012e-03, 6.21250060e-04]),\n",
       " array([0.0091726 , 0.33110416, 0.65303572, 0.97496728, 1.29689884,\n",
       "        1.61883039, 1.94076195, 2.26269351, 2.58462507, 2.90655663,\n",
       "        3.22848819]),\n",
       " <BarContainer object of 10 artists>)"
      ]
     },
     "execution_count": 7,
     "metadata": {},
     "output_type": "execute_result"
    },
    {
     "data": {
      "image/png": "[encoded data removed]",
      "text/plain": [
       "<Figure size 432x288 with 1 Axes>"
      ]
     },
     "metadata": {
      "needs_background": "light"
     },
     "output_type": "display_data"
    }
   ],
   "source": [
    "plt.hist(traffic, density = True )"
   ]
  },
  {
   "cell_type": "code",
   "execution_count": 8,
   "id": "48a357f3",
   "metadata": {},
   "outputs": [],
   "source": [
    "def probability(data, alpha):\n",
    "    a = 2 * alpha * data\n",
    "    neg_alpha = -alpha\n",
    "    data_squared = data ** 2\n",
    "    euler = np.exp(neg_alpha * data_squared)\n",
    "    proba = a * euler\n",
    "    return proba"
   ]
  },
  {
   "cell_type": "code",
   "execution_count": 9,
   "id": "ce7e5c88",
   "metadata": {},
   "outputs": [
    {
     "data": {
      "text/html": [
       "<div>\n",
       "<style scoped>\n",
       "    .dataframe tbody tr th:only-of-type {\n",
       "        vertical-align: middle;\n",
       "    }\n",
       "\n",
       "    .dataframe tbody tr th {\n",
       "        vertical-align: top;\n",
       "    }\n",
       "\n",
       "    .dataframe thead th {\n",
       "        text-align: right;\n",
       "    }\n",
       "</style>\n",
       "<table border=\"1\" class=\"dataframe\">\n",
       "  <thead>\n",
       "    <tr style=\"text-align: right;\">\n",
       "      <th></th>\n",
       "      <th>Numbers</th>\n",
       "    </tr>\n",
       "  </thead>\n",
       "  <tbody>\n",
       "    <tr>\n",
       "      <th>0</th>\n",
       "      <td>0.565706</td>\n",
       "    </tr>\n",
       "    <tr>\n",
       "      <th>1</th>\n",
       "      <td>1.030801</td>\n",
       "    </tr>\n",
       "    <tr>\n",
       "      <th>2</th>\n",
       "      <td>0.719174</td>\n",
       "    </tr>\n",
       "    <tr>\n",
       "      <th>3</th>\n",
       "      <td>0.970237</td>\n",
       "    </tr>\n",
       "    <tr>\n",
       "      <th>4</th>\n",
       "      <td>0.940219</td>\n",
       "    </tr>\n",
       "    <tr>\n",
       "      <th>...</th>\n",
       "      <td>...</td>\n",
       "    </tr>\n",
       "    <tr>\n",
       "      <th>9995</th>\n",
       "      <td>0.520613</td>\n",
       "    </tr>\n",
       "    <tr>\n",
       "      <th>9996</th>\n",
       "      <td>0.761953</td>\n",
       "    </tr>\n",
       "    <tr>\n",
       "      <th>9997</th>\n",
       "      <td>1.112560</td>\n",
       "    </tr>\n",
       "    <tr>\n",
       "      <th>9998</th>\n",
       "      <td>0.065503</td>\n",
       "    </tr>\n",
       "    <tr>\n",
       "      <th>9999</th>\n",
       "      <td>0.627667</td>\n",
       "    </tr>\n",
       "  </tbody>\n",
       "</table>\n",
       "<p>10000 rows × 1 columns</p>\n",
       "</div>"
      ],
      "text/plain": [
       "       Numbers\n",
       "0     0.565706\n",
       "1     1.030801\n",
       "2     0.719174\n",
       "3     0.970237\n",
       "4     0.940219\n",
       "...        ...\n",
       "9995  0.520613\n",
       "9996  0.761953\n",
       "9997  1.112560\n",
       "9998  0.065503\n",
       "9999  0.627667\n",
       "\n",
       "[10000 rows x 1 columns]"
      ]
     },
     "execution_count": 9,
     "metadata": {},
     "output_type": "execute_result"
    }
   ],
   "source": [
    "traffic.columns\n",
    "traffic.rename(columns = {0:'Numbers'}, inplace = True)\n",
    "traffic"
   ]
  },
  {
   "cell_type": "code",
   "execution_count": 10,
   "id": "2466b07f",
   "metadata": {},
   "outputs": [
    {
     "data": {
      "text/html": [
       "<div>\n",
       "<style scoped>\n",
       "    .dataframe tbody tr th:only-of-type {\n",
       "        vertical-align: middle;\n",
       "    }\n",
       "\n",
       "    .dataframe tbody tr th {\n",
       "        vertical-align: top;\n",
       "    }\n",
       "\n",
       "    .dataframe thead th {\n",
       "        text-align: right;\n",
       "    }\n",
       "</style>\n",
       "<table border=\"1\" class=\"dataframe\">\n",
       "  <thead>\n",
       "    <tr style=\"text-align: right;\">\n",
       "      <th></th>\n",
       "      <th>Numbers</th>\n",
       "      <th>alpha</th>\n",
       "    </tr>\n",
       "  </thead>\n",
       "  <tbody>\n",
       "    <tr>\n",
       "      <th>0</th>\n",
       "      <td>0.565706</td>\n",
       "      <td>0.908237</td>\n",
       "    </tr>\n",
       "    <tr>\n",
       "      <th>1</th>\n",
       "      <td>1.030801</td>\n",
       "      <td>0.696412</td>\n",
       "    </tr>\n",
       "    <tr>\n",
       "      <th>2</th>\n",
       "      <td>0.719174</td>\n",
       "      <td>0.917513</td>\n",
       "    </tr>\n",
       "    <tr>\n",
       "      <th>3</th>\n",
       "      <td>0.970237</td>\n",
       "      <td>0.754959</td>\n",
       "    </tr>\n",
       "    <tr>\n",
       "      <th>4</th>\n",
       "      <td>0.940219</td>\n",
       "      <td>0.782183</td>\n",
       "    </tr>\n",
       "    <tr>\n",
       "      <th>...</th>\n",
       "      <td>...</td>\n",
       "      <td>...</td>\n",
       "    </tr>\n",
       "    <tr>\n",
       "      <th>9995</th>\n",
       "      <td>0.520613</td>\n",
       "      <td>0.884958</td>\n",
       "    </tr>\n",
       "    <tr>\n",
       "      <th>9996</th>\n",
       "      <td>0.761953</td>\n",
       "      <td>0.902878</td>\n",
       "    </tr>\n",
       "    <tr>\n",
       "      <th>9997</th>\n",
       "      <td>1.112560</td>\n",
       "      <td>0.612769</td>\n",
       "    </tr>\n",
       "    <tr>\n",
       "      <th>9998</th>\n",
       "      <td>0.065503</td>\n",
       "      <td>0.151954</td>\n",
       "    </tr>\n",
       "    <tr>\n",
       "      <th>9999</th>\n",
       "      <td>0.627667</td>\n",
       "      <td>0.924491</td>\n",
       "    </tr>\n",
       "  </tbody>\n",
       "</table>\n",
       "<p>10000 rows × 2 columns</p>\n",
       "</div>"
      ],
      "text/plain": [
       "       Numbers     alpha\n",
       "0     0.565706  0.908237\n",
       "1     1.030801  0.696412\n",
       "2     0.719174  0.917513\n",
       "3     0.970237  0.754959\n",
       "4     0.940219  0.782183\n",
       "...        ...       ...\n",
       "9995  0.520613  0.884958\n",
       "9996  0.761953  0.902878\n",
       "9997  1.112560  0.612769\n",
       "9998  0.065503  0.151954\n",
       "9999  0.627667  0.924491\n",
       "\n",
       "[10000 rows x 2 columns]"
      ]
     },
     "execution_count": 10,
     "metadata": {},
     "output_type": "execute_result"
    }
   ],
   "source": [
    "traffic['alpha'] = traffic.apply(lambda x: probability(traffic['Numbers'], 1.165723))\n",
    "traffic"
   ]
  },
  {
   "cell_type": "code",
   "execution_count": 11,
   "id": "a737260a",
   "metadata": {},
   "outputs": [
    {
     "data": {
      "text/plain": [
       "3.228488187212793"
      ]
     },
     "execution_count": 11,
     "metadata": {},
     "output_type": "execute_result"
    }
   ],
   "source": [
    "traffic['Numbers'].max()"
   ]
  },
  {
   "cell_type": "code",
   "execution_count": 12,
   "id": "f5f15a98",
   "metadata": {},
   "outputs": [
    {
     "data": {
      "text/plain": [
       "array([0.000e+00, 1.000e-03, 2.000e-03, ..., 3.497e+00, 3.498e+00,\n",
       "       3.499e+00])"
      ]
     },
     "execution_count": 12,
     "metadata": {},
     "output_type": "execute_result"
    }
   ],
   "source": [
    "x = np.arange(0,3.5,0.001)\n",
    "x"
   ]
  },
  {
   "cell_type": "code",
   "execution_count": 13,
   "id": "b720d991",
   "metadata": {},
   "outputs": [
    {
     "data": {
      "text/html": [
       "<div>\n",
       "<style scoped>\n",
       "    .dataframe tbody tr th:only-of-type {\n",
       "        vertical-align: middle;\n",
       "    }\n",
       "\n",
       "    .dataframe tbody tr th {\n",
       "        vertical-align: top;\n",
       "    }\n",
       "\n",
       "    .dataframe thead th {\n",
       "        text-align: right;\n",
       "    }\n",
       "</style>\n",
       "<table border=\"1\" class=\"dataframe\">\n",
       "  <thead>\n",
       "    <tr style=\"text-align: right;\">\n",
       "      <th></th>\n",
       "      <th>random</th>\n",
       "    </tr>\n",
       "  </thead>\n",
       "  <tbody>\n",
       "    <tr>\n",
       "      <th>0</th>\n",
       "      <td>0.000</td>\n",
       "    </tr>\n",
       "    <tr>\n",
       "      <th>1</th>\n",
       "      <td>0.001</td>\n",
       "    </tr>\n",
       "    <tr>\n",
       "      <th>2</th>\n",
       "      <td>0.002</td>\n",
       "    </tr>\n",
       "    <tr>\n",
       "      <th>3</th>\n",
       "      <td>0.003</td>\n",
       "    </tr>\n",
       "    <tr>\n",
       "      <th>4</th>\n",
       "      <td>0.004</td>\n",
       "    </tr>\n",
       "    <tr>\n",
       "      <th>...</th>\n",
       "      <td>...</td>\n",
       "    </tr>\n",
       "    <tr>\n",
       "      <th>3495</th>\n",
       "      <td>3.495</td>\n",
       "    </tr>\n",
       "    <tr>\n",
       "      <th>3496</th>\n",
       "      <td>3.496</td>\n",
       "    </tr>\n",
       "    <tr>\n",
       "      <th>3497</th>\n",
       "      <td>3.497</td>\n",
       "    </tr>\n",
       "    <tr>\n",
       "      <th>3498</th>\n",
       "      <td>3.498</td>\n",
       "    </tr>\n",
       "    <tr>\n",
       "      <th>3499</th>\n",
       "      <td>3.499</td>\n",
       "    </tr>\n",
       "  </tbody>\n",
       "</table>\n",
       "<p>3500 rows × 1 columns</p>\n",
       "</div>"
      ],
      "text/plain": [
       "      random\n",
       "0      0.000\n",
       "1      0.001\n",
       "2      0.002\n",
       "3      0.003\n",
       "4      0.004\n",
       "...      ...\n",
       "3495   3.495\n",
       "3496   3.496\n",
       "3497   3.497\n",
       "3498   3.498\n",
       "3499   3.499\n",
       "\n",
       "[3500 rows x 1 columns]"
      ]
     },
     "execution_count": 13,
     "metadata": {},
     "output_type": "execute_result"
    }
   ],
   "source": [
    "random_set = pd.DataFrame({'random': x})\n",
    "random_set"
   ]
  },
  {
   "cell_type": "code",
   "execution_count": 14,
   "id": "c5efb659",
   "metadata": {},
   "outputs": [
    {
     "data": {
      "text/html": [
       "<div>\n",
       "<style scoped>\n",
       "    .dataframe tbody tr th:only-of-type {\n",
       "        vertical-align: middle;\n",
       "    }\n",
       "\n",
       "    .dataframe tbody tr th {\n",
       "        vertical-align: top;\n",
       "    }\n",
       "\n",
       "    .dataframe thead th {\n",
       "        text-align: right;\n",
       "    }\n",
       "</style>\n",
       "<table border=\"1\" class=\"dataframe\">\n",
       "  <thead>\n",
       "    <tr style=\"text-align: right;\">\n",
       "      <th></th>\n",
       "      <th>random</th>\n",
       "      <th>alpha</th>\n",
       "    </tr>\n",
       "  </thead>\n",
       "  <tbody>\n",
       "    <tr>\n",
       "      <th>0</th>\n",
       "      <td>0.000</td>\n",
       "      <td>0.000000</td>\n",
       "    </tr>\n",
       "    <tr>\n",
       "      <th>1</th>\n",
       "      <td>0.001</td>\n",
       "      <td>0.002331</td>\n",
       "    </tr>\n",
       "    <tr>\n",
       "      <th>2</th>\n",
       "      <td>0.002</td>\n",
       "      <td>0.004663</td>\n",
       "    </tr>\n",
       "    <tr>\n",
       "      <th>3</th>\n",
       "      <td>0.003</td>\n",
       "      <td>0.006994</td>\n",
       "    </tr>\n",
       "    <tr>\n",
       "      <th>4</th>\n",
       "      <td>0.004</td>\n",
       "      <td>0.009326</td>\n",
       "    </tr>\n",
       "    <tr>\n",
       "      <th>...</th>\n",
       "      <td>...</td>\n",
       "      <td>...</td>\n",
       "    </tr>\n",
       "    <tr>\n",
       "      <th>3495</th>\n",
       "      <td>3.495</td>\n",
       "      <td>0.000005</td>\n",
       "    </tr>\n",
       "    <tr>\n",
       "      <th>3496</th>\n",
       "      <td>3.496</td>\n",
       "      <td>0.000005</td>\n",
       "    </tr>\n",
       "    <tr>\n",
       "      <th>3497</th>\n",
       "      <td>3.497</td>\n",
       "      <td>0.000005</td>\n",
       "    </tr>\n",
       "    <tr>\n",
       "      <th>3498</th>\n",
       "      <td>3.498</td>\n",
       "      <td>0.000005</td>\n",
       "    </tr>\n",
       "    <tr>\n",
       "      <th>3499</th>\n",
       "      <td>3.499</td>\n",
       "      <td>0.000005</td>\n",
       "    </tr>\n",
       "  </tbody>\n",
       "</table>\n",
       "<p>3500 rows × 2 columns</p>\n",
       "</div>"
      ],
      "text/plain": [
       "      random     alpha\n",
       "0      0.000  0.000000\n",
       "1      0.001  0.002331\n",
       "2      0.002  0.004663\n",
       "3      0.003  0.006994\n",
       "4      0.004  0.009326\n",
       "...      ...       ...\n",
       "3495   3.495  0.000005\n",
       "3496   3.496  0.000005\n",
       "3497   3.497  0.000005\n",
       "3498   3.498  0.000005\n",
       "3499   3.499  0.000005\n",
       "\n",
       "[3500 rows x 2 columns]"
      ]
     },
     "execution_count": 14,
     "metadata": {},
     "output_type": "execute_result"
    }
   ],
   "source": [
    "random_set['alpha'] = random_set.apply(lambda x: probability(random_set['random'], 1.165723))\n",
    "random_set"
   ]
  },
  {
   "cell_type": "code",
   "execution_count": 15,
   "id": "91a26aa6",
   "metadata": {},
   "outputs": [
    {
     "data": {
      "text/plain": [
       "<AxesSubplot:xlabel='random', ylabel='alpha'>"
      ]
     },
     "execution_count": 15,
     "metadata": {},
     "output_type": "execute_result"
    },
    {
     "data": {
      "image/png": "[encoded data removed]",
      "text/plain": [
       "<Figure size 432x288 with 1 Axes>"
      ]
     },
     "metadata": {
      "needs_background": "light"
     },
     "output_type": "display_data"
    }
   ],
   "source": [
    "sns.lineplot(x= 'random', y = 'alpha', data = random_set)\n",
    "sns.histplot(x= 'Numbers', data = traffic, stat = 'density')"
   ]
  },
  {
   "cell_type": "markdown",
   "id": "e4a83995",
   "metadata": {},
   "source": [
    "## QUESTION 2\n",
    "Write a Python function that computes the probability function for a hypergeometric random\n",
    "variable, X. (See the class notes and Wikipedia page for this formula.) Your function should\n",
    "take inputs:\n"
   ]
  },
  {
   "cell_type": "code",
   "execution_count": 2,
   "id": "b7165c03",
   "metadata": {},
   "outputs": [],
   "source": [
    "from math import comb"
   ]
  },
  {
   "cell_type": "code",
   "execution_count": 3,
   "id": "b32682ea",
   "metadata": {},
   "outputs": [],
   "source": [
    "def prob(NumBits, NumBits1, NumBitsDrawn, NumBitsDrawn1): #N,K,n,k\n",
    "    a = comb(NumBits1, NumBitsDrawn1)\n",
    "    b = comb(NumBits - NumBits1, NumBitsDrawn - NumBitsDrawn1)\n",
    "    denominator = comb(NumBits, NumBitsDrawn)\n",
    "    numerator = a * b\n",
    "    probability = numerator/denominator\n",
    "    return probability"
   ]
  },
  {
   "cell_type": "markdown",
   "id": "d71907b9",
   "metadata": {},
   "source": [
    "## 2a "
   ]
  },
  {
   "cell_type": "code",
   "execution_count": 4,
   "id": "e9a9492b",
   "metadata": {},
   "outputs": [
    {
     "name": "stdout",
     "output_type": "stream",
     "text": [
      "0.5142857142857142\n",
      "0.22857142857142856\n",
      "0.014285714285714285\n"
     ]
    }
   ],
   "source": [
    "print(prob(8,4,4,2)) #probability for k =2\n",
    "print(prob(8,4,4,3)) #k = 3\n",
    "print(prob(8,4,4,4)) #k = 4"
   ]
  },
  {
   "cell_type": "markdown",
   "id": "3adbd38a",
   "metadata": {},
   "source": [
    "## 2b"
   ]
  },
  {
   "cell_type": "code",
   "execution_count": 6,
   "id": "0f04e3e6",
   "metadata": {},
   "outputs": [
    {
     "name": "stdout",
     "output_type": "stream",
     "text": [
      "0.0005934196725858287\n"
     ]
    }
   ],
   "source": [
    "print(prob(100,10,50,10))"
   ]
  },
  {
   "cell_type": "markdown",
   "id": "2fb2a52c",
   "metadata": {},
   "source": [
    "The probability that I will capture all 10 packets from the hackers is 0.059 percent."
   ]
  },
  {
   "cell_type": "markdown",
   "id": "04e1d65c",
   "metadata": {},
   "source": [
    "## 2c"
   ]
  },
  {
   "cell_type": "code",
   "execution_count": 20,
   "id": "303b664f",
   "metadata": {},
   "outputs": [
    {
     "name": "stdout",
     "output_type": "stream",
     "text": [
      "0.6296667731127675\n"
     ]
    }
   ],
   "source": [
    "sum = 0\n",
    "for i in range(5,11):\n",
    "    sum += prob(100,10,50,i)\n",
    "\n",
    "print(sum)"
   ]
  },
  {
   "cell_type": "markdown",
   "id": "1b0bea8c",
   "metadata": {},
   "source": [
    "The probability that I will capture at least half of the hacker's packets is 62.97 percent."
   ]
  },
  {
   "cell_type": "markdown",
   "id": "a56dd77b",
   "metadata": {},
   "source": [
    "## QUESTION 3"
   ]
  },
  {
   "cell_type": "code",
   "execution_count": 21,
   "id": "46e55d48",
   "metadata": {},
   "outputs": [
    {
     "data": {
      "text/html": [
       "<div>\n",
       "<style scoped>\n",
       "    .dataframe tbody tr th:only-of-type {\n",
       "        vertical-align: middle;\n",
       "    }\n",
       "\n",
       "    .dataframe tbody tr th {\n",
       "        vertical-align: top;\n",
       "    }\n",
       "\n",
       "    .dataframe thead th {\n",
       "        text-align: right;\n",
       "    }\n",
       "</style>\n",
       "<table border=\"1\" class=\"dataframe\">\n",
       "  <thead>\n",
       "    <tr style=\"text-align: right;\">\n",
       "      <th></th>\n",
       "      <th>bhr</th>\n",
       "      <th>basebp</th>\n",
       "      <th>basedp</th>\n",
       "      <th>pkhr</th>\n",
       "      <th>sbp</th>\n",
       "      <th>dp</th>\n",
       "      <th>dose</th>\n",
       "      <th>maxhr</th>\n",
       "      <th>%mphr(b)</th>\n",
       "      <th>mbp</th>\n",
       "      <th>...</th>\n",
       "      <th>phat</th>\n",
       "      <th>event(#)</th>\n",
       "      <th>mics</th>\n",
       "      <th>deltaEF</th>\n",
       "      <th>newpkmphr</th>\n",
       "      <th>gdpkmphr</th>\n",
       "      <th>gdmaxmphr</th>\n",
       "      <th>gddpeakdp</th>\n",
       "      <th>gdmaxdp</th>\n",
       "      <th>hardness</th>\n",
       "    </tr>\n",
       "  </thead>\n",
       "  <tbody>\n",
       "    <tr>\n",
       "      <th>0</th>\n",
       "      <td>92</td>\n",
       "      <td>103</td>\n",
       "      <td>9476</td>\n",
       "      <td>114</td>\n",
       "      <td>86</td>\n",
       "      <td>9804</td>\n",
       "      <td>40</td>\n",
       "      <td>100</td>\n",
       "      <td>74</td>\n",
       "      <td>121</td>\n",
       "      <td>...</td>\n",
       "      <td>0.500272</td>\n",
       "      <td>0</td>\n",
       "      <td>1</td>\n",
       "      <td>5</td>\n",
       "      <td>84.44444</td>\n",
       "      <td>0</td>\n",
       "      <td>0</td>\n",
       "      <td>0</td>\n",
       "      <td>0</td>\n",
       "      <td>2</td>\n",
       "    </tr>\n",
       "    <tr>\n",
       "      <th>1</th>\n",
       "      <td>62</td>\n",
       "      <td>139</td>\n",
       "      <td>8618</td>\n",
       "      <td>120</td>\n",
       "      <td>158</td>\n",
       "      <td>18960</td>\n",
       "      <td>40</td>\n",
       "      <td>120</td>\n",
       "      <td>82</td>\n",
       "      <td>158</td>\n",
       "      <td>...</td>\n",
       "      <td>0.548361</td>\n",
       "      <td>1</td>\n",
       "      <td>1</td>\n",
       "      <td>1</td>\n",
       "      <td>81.63265</td>\n",
       "      <td>0</td>\n",
       "      <td>0</td>\n",
       "      <td>0</td>\n",
       "      <td>0</td>\n",
       "      <td>0</td>\n",
       "    </tr>\n",
       "    <tr>\n",
       "      <th>2</th>\n",
       "      <td>62</td>\n",
       "      <td>139</td>\n",
       "      <td>8618</td>\n",
       "      <td>120</td>\n",
       "      <td>157</td>\n",
       "      <td>18840</td>\n",
       "      <td>40</td>\n",
       "      <td>120</td>\n",
       "      <td>82</td>\n",
       "      <td>157</td>\n",
       "      <td>...</td>\n",
       "      <td>0.548361</td>\n",
       "      <td>1</td>\n",
       "      <td>1</td>\n",
       "      <td>1</td>\n",
       "      <td>81.63265</td>\n",
       "      <td>0</td>\n",
       "      <td>0</td>\n",
       "      <td>0</td>\n",
       "      <td>0</td>\n",
       "      <td>0</td>\n",
       "    </tr>\n",
       "    <tr>\n",
       "      <th>3</th>\n",
       "      <td>93</td>\n",
       "      <td>118</td>\n",
       "      <td>10974</td>\n",
       "      <td>118</td>\n",
       "      <td>105</td>\n",
       "      <td>12390</td>\n",
       "      <td>30</td>\n",
       "      <td>118</td>\n",
       "      <td>72</td>\n",
       "      <td>105</td>\n",
       "      <td>...</td>\n",
       "      <td>0.646591</td>\n",
       "      <td>0</td>\n",
       "      <td>1</td>\n",
       "      <td>15</td>\n",
       "      <td>72.39264</td>\n",
       "      <td>0</td>\n",
       "      <td>0</td>\n",
       "      <td>0</td>\n",
       "      <td>0</td>\n",
       "      <td>2</td>\n",
       "    </tr>\n",
       "    <tr>\n",
       "      <th>4</th>\n",
       "      <td>89</td>\n",
       "      <td>103</td>\n",
       "      <td>9167</td>\n",
       "      <td>129</td>\n",
       "      <td>173</td>\n",
       "      <td>22317</td>\n",
       "      <td>40</td>\n",
       "      <td>129</td>\n",
       "      <td>69</td>\n",
       "      <td>176</td>\n",
       "      <td>...</td>\n",
       "      <td>0.522896</td>\n",
       "      <td>0</td>\n",
       "      <td>1</td>\n",
       "      <td>12</td>\n",
       "      <td>69.35484</td>\n",
       "      <td>0</td>\n",
       "      <td>0</td>\n",
       "      <td>1</td>\n",
       "      <td>1</td>\n",
       "      <td>2</td>\n",
       "    </tr>\n",
       "    <tr>\n",
       "      <th>...</th>\n",
       "      <td>...</td>\n",
       "      <td>...</td>\n",
       "      <td>...</td>\n",
       "      <td>...</td>\n",
       "      <td>...</td>\n",
       "      <td>...</td>\n",
       "      <td>...</td>\n",
       "      <td>...</td>\n",
       "      <td>...</td>\n",
       "      <td>...</td>\n",
       "      <td>...</td>\n",
       "      <td>...</td>\n",
       "      <td>...</td>\n",
       "      <td>...</td>\n",
       "      <td>...</td>\n",
       "      <td>...</td>\n",
       "      <td>...</td>\n",
       "      <td>...</td>\n",
       "      <td>...</td>\n",
       "      <td>...</td>\n",
       "      <td>...</td>\n",
       "    </tr>\n",
       "    <tr>\n",
       "      <th>553</th>\n",
       "      <td>71</td>\n",
       "      <td>150</td>\n",
       "      <td>10650</td>\n",
       "      <td>112</td>\n",
       "      <td>140</td>\n",
       "      <td>15680</td>\n",
       "      <td>35</td>\n",
       "      <td>108</td>\n",
       "      <td>72</td>\n",
       "      <td>160</td>\n",
       "      <td>...</td>\n",
       "      <td>0.709618</td>\n",
       "      <td>0</td>\n",
       "      <td>1</td>\n",
       "      <td>11</td>\n",
       "      <td>74.66667</td>\n",
       "      <td>0</td>\n",
       "      <td>0</td>\n",
       "      <td>0</td>\n",
       "      <td>0</td>\n",
       "      <td>2</td>\n",
       "    </tr>\n",
       "    <tr>\n",
       "      <th>554</th>\n",
       "      <td>77</td>\n",
       "      <td>132</td>\n",
       "      <td>10164</td>\n",
       "      <td>112</td>\n",
       "      <td>133</td>\n",
       "      <td>14896</td>\n",
       "      <td>25</td>\n",
       "      <td>109</td>\n",
       "      <td>75</td>\n",
       "      <td>140</td>\n",
       "      <td>...</td>\n",
       "      <td>0.558987</td>\n",
       "      <td>1</td>\n",
       "      <td>1</td>\n",
       "      <td>-4</td>\n",
       "      <td>76.71233</td>\n",
       "      <td>0</td>\n",
       "      <td>0</td>\n",
       "      <td>0</td>\n",
       "      <td>0</td>\n",
       "      <td>0</td>\n",
       "    </tr>\n",
       "    <tr>\n",
       "      <th>555</th>\n",
       "      <td>78</td>\n",
       "      <td>100</td>\n",
       "      <td>7800</td>\n",
       "      <td>123</td>\n",
       "      <td>102</td>\n",
       "      <td>12546</td>\n",
       "      <td>40</td>\n",
       "      <td>119</td>\n",
       "      <td>76</td>\n",
       "      <td>112</td>\n",
       "      <td>...</td>\n",
       "      <td>0.709618</td>\n",
       "      <td>1</td>\n",
       "      <td>1</td>\n",
       "      <td>17</td>\n",
       "      <td>78.84615</td>\n",
       "      <td>0</td>\n",
       "      <td>0</td>\n",
       "      <td>0</td>\n",
       "      <td>0</td>\n",
       "      <td>1</td>\n",
       "    </tr>\n",
       "    <tr>\n",
       "      <th>556</th>\n",
       "      <td>59</td>\n",
       "      <td>130</td>\n",
       "      <td>7670</td>\n",
       "      <td>107</td>\n",
       "      <td>70</td>\n",
       "      <td>7490</td>\n",
       "      <td>40</td>\n",
       "      <td>106</td>\n",
       "      <td>71</td>\n",
       "      <td>115</td>\n",
       "      <td>...</td>\n",
       "      <td>0.747720</td>\n",
       "      <td>1</td>\n",
       "      <td>1</td>\n",
       "      <td>11</td>\n",
       "      <td>71.33333</td>\n",
       "      <td>0</td>\n",
       "      <td>0</td>\n",
       "      <td>0</td>\n",
       "      <td>0</td>\n",
       "      <td>0</td>\n",
       "    </tr>\n",
       "    <tr>\n",
       "      <th>557</th>\n",
       "      <td>98</td>\n",
       "      <td>140</td>\n",
       "      <td>13720</td>\n",
       "      <td>161</td>\n",
       "      <td>100</td>\n",
       "      <td>16100</td>\n",
       "      <td>40</td>\n",
       "      <td>156</td>\n",
       "      <td>95</td>\n",
       "      <td>130</td>\n",
       "      <td>...</td>\n",
       "      <td>0.667001</td>\n",
       "      <td>0</td>\n",
       "      <td>1</td>\n",
       "      <td>18</td>\n",
       "      <td>98.17073</td>\n",
       "      <td>1</td>\n",
       "      <td>1</td>\n",
       "      <td>0</td>\n",
       "      <td>0</td>\n",
       "      <td>2</td>\n",
       "    </tr>\n",
       "  </tbody>\n",
       "</table>\n",
       "<p>558 rows × 42 columns</p>\n",
       "</div>"
      ],
      "text/plain": [
       "     bhr  basebp  basedp  pkhr  sbp     dp  dose  maxhr  %mphr(b)  mbp  ...  \\\n",
       "0     92     103    9476   114   86   9804    40    100        74  121  ...   \n",
       "1     62     139    8618   120  158  18960    40    120        82  158  ...   \n",
       "2     62     139    8618   120  157  18840    40    120        82  157  ...   \n",
       "3     93     118   10974   118  105  12390    30    118        72  105  ...   \n",
       "4     89     103    9167   129  173  22317    40    129        69  176  ...   \n",
       "..   ...     ...     ...   ...  ...    ...   ...    ...       ...  ...  ...   \n",
       "553   71     150   10650   112  140  15680    35    108        72  160  ...   \n",
       "554   77     132   10164   112  133  14896    25    109        75  140  ...   \n",
       "555   78     100    7800   123  102  12546    40    119        76  112  ...   \n",
       "556   59     130    7670   107   70   7490    40    106        71  115  ...   \n",
       "557   98     140   13720   161  100  16100    40    156        95  130  ...   \n",
       "\n",
       "         phat  event(#)  mics  deltaEF  newpkmphr  gdpkmphr  gdmaxmphr  \\\n",
       "0    0.500272         0     1        5   84.44444         0          0   \n",
       "1    0.548361         1     1        1   81.63265         0          0   \n",
       "2    0.548361         1     1        1   81.63265         0          0   \n",
       "3    0.646591         0     1       15   72.39264         0          0   \n",
       "4    0.522896         0     1       12   69.35484         0          0   \n",
       "..        ...       ...   ...      ...        ...       ...        ...   \n",
       "553  0.709618         0     1       11   74.66667         0          0   \n",
       "554  0.558987         1     1       -4   76.71233         0          0   \n",
       "555  0.709618         1     1       17   78.84615         0          0   \n",
       "556  0.747720         1     1       11   71.33333         0          0   \n",
       "557  0.667001         0     1       18   98.17073         1          1   \n",
       "\n",
       "     gddpeakdp  gdmaxdp  hardness  \n",
       "0            0        0         2  \n",
       "1            0        0         0  \n",
       "2            0        0         0  \n",
       "3            0        0         2  \n",
       "4            1        1         2  \n",
       "..         ...      ...       ...  \n",
       "553          0        0         2  \n",
       "554          0        0         0  \n",
       "555          0        0         1  \n",
       "556          0        0         0  \n",
       "557          0        0         2  \n",
       "\n",
       "[558 rows x 42 columns]"
      ]
     },
     "execution_count": 21,
     "metadata": {},
     "output_type": "execute_result"
    }
   ],
   "source": [
    "cardiac = pd.read_csv('cardiac.csv')\n",
    "cardiac"
   ]
  },
  {
   "cell_type": "markdown",
   "id": "67575d33",
   "metadata": {},
   "source": [
    "## 3a"
   ]
  },
  {
   "cell_type": "code",
   "execution_count": 22,
   "id": "d359ddd7",
   "metadata": {},
   "outputs": [
    {
     "data": {
      "text/html": [
       "<div>\n",
       "<style scoped>\n",
       "    .dataframe tbody tr th:only-of-type {\n",
       "        vertical-align: middle;\n",
       "    }\n",
       "\n",
       "    .dataframe tbody tr th {\n",
       "        vertical-align: top;\n",
       "    }\n",
       "\n",
       "    .dataframe thead th {\n",
       "        text-align: right;\n",
       "    }\n",
       "</style>\n",
       "<table border=\"1\" class=\"dataframe\">\n",
       "  <thead>\n",
       "    <tr style=\"text-align: right;\">\n",
       "      <th>hxofHT</th>\n",
       "      <th>0</th>\n",
       "      <th>1</th>\n",
       "    </tr>\n",
       "    <tr>\n",
       "      <th>gender</th>\n",
       "      <th></th>\n",
       "      <th></th>\n",
       "    </tr>\n",
       "  </thead>\n",
       "  <tbody>\n",
       "    <tr>\n",
       "      <th>0</th>\n",
       "      <td>144</td>\n",
       "      <td>76</td>\n",
       "    </tr>\n",
       "    <tr>\n",
       "      <th>1</th>\n",
       "      <td>249</td>\n",
       "      <td>89</td>\n",
       "    </tr>\n",
       "  </tbody>\n",
       "</table>\n",
       "</div>"
      ],
      "text/plain": [
       "hxofHT    0   1\n",
       "gender         \n",
       "0       144  76\n",
       "1       249  89"
      ]
     },
     "execution_count": 22,
     "metadata": {},
     "output_type": "execute_result"
    }
   ],
   "source": [
    "pd.crosstab(cardiac.gender, cardiac.hxofHT) #Got this idea from Piazza"
   ]
  },
  {
   "cell_type": "markdown",
   "id": "5a8bcb70",
   "metadata": {},
   "source": [
    "## 3b"
   ]
  },
  {
   "cell_type": "code",
   "execution_count": 23,
   "id": "707967be",
   "metadata": {},
   "outputs": [
    {
     "name": "stdout",
     "output_type": "stream",
     "text": [
      "0.008846092806850215\n"
     ]
    }
   ],
   "source": [
    "print(prob(558,220,393,144))"
   ]
  },
  {
   "cell_type": "markdown",
   "id": "de937f43",
   "metadata": {},
   "source": [
    "## 3c"
   ]
  },
  {
   "cell_type": "markdown",
   "id": "280bfbed",
   "metadata": {},
   "source": [
    "Since null hypothesis can be though of as the \"default position,\" it would be that women have hypertension equally as likely as men. "
   ]
  },
  {
   "cell_type": "markdown",
   "id": "9b4f1dea",
   "metadata": {},
   "source": [
    "## 3d"
   ]
  },
  {
   "cell_type": "code",
   "execution_count": 33,
   "id": "ed86a5bb",
   "metadata": {},
   "outputs": [
    {
     "name": "stdout",
     "output_type": "stream",
     "text": [
      "0.024039690892811647\n"
     ]
    }
   ],
   "source": [
    "women_with_hypo = 249\n",
    "women_without_hypo = 89\n",
    "men_with_hypo = 144\n",
    "men_without_hypo = 76\n",
    "\n",
    "K = women_with_hypo + men_with_hypo\n",
    "n = women_with_hypo + women_without_hypo\n",
    "sum = 0\n",
    "    \n",
    "while(women_without_hypo != 0):\n",
    "    sum += prob(558,K,n,women_with_hypo)\n",
    "    women_without_hypo -=1\n",
    "    men_with_hypo -=1\n",
    "    women_with_hypo += 1\n",
    "    \n",
    "print(sum)"
   ]
  },
  {
   "cell_type": "markdown",
   "id": "a55c51f2",
   "metadata": {},
   "source": [
    "Since the p-value is lower than 0.05, we can reject the null hypothesis."
   ]
  },
  {
   "cell_type": "code",
   "execution_count": null,
   "id": "a9a9eb73",
   "metadata": {},
   "outputs": [],
   "source": []
  }
 ],
 "metadata": {
  "kernelspec": {
   "display_name": "Python 3 (ipykernel)",
   "language": "python",
   "name": "python3"
  },
  "language_info": {
   "codemirror_mode": {
    "name": "ipython",
    "version": 3
   },
   "file_extension": ".py",
   "mimetype": "text/x-python",
   "name": "python",
   "nbconvert_exporter": "python",
   "pygments_lexer": "ipython3",
   "version": "3.9.7"
  }
 },
 "nbformat": 4,
 "nbformat_minor": 5
}
